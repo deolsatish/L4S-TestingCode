{
 "cells": [
  {
   "cell_type": "code",
   "execution_count": null,
   "metadata": {},
   "outputs": [],
   "source": [
    "iperf3 -s\n",
    "iperf3 -c 172.16.4.2 -t 60\n",
    "\n",
    "iperf3 -c 172.16.3.1 - router 1- DummynetVM1"
   ]
  },
  {
   "cell_type": "code",
   "execution_count": null,
   "metadata": {},
   "outputs": [],
   "source": [
    "# Server\n",
    "./picoquicdemo -w ../htmlroot -p 4433\n",
    "./picoquicdemo -p 4443\n"
   ]
  },
  {
   "cell_type": "code",
   "execution_count": null,
   "metadata": {},
   "outputs": [],
   "source": [
    "# Client\n",
    "./picoquicdemo -o ../received 172.16.3.1 4433 index.html\n",
    "./picoquicdemo -D <server_name> 4443 /20000000\n",
    "\n",
    "./picoquicdemo -n test -o ../received 172.16.3.1 4433 index.html"
   ]
  },
  {
   "cell_type": "code",
   "execution_count": null,
   "metadata": {},
   "outputs": [],
   "source": [
    "./picoquicdemo -n test -D <server_name> 4443 /20000000"
   ]
  },
  {
   "cell_type": "code",
   "execution_count": null,
   "metadata": {},
   "outputs": [],
   "source": [
    "iperf3 -s -p 5101 >/dev/null &\n",
    "iperf3 -s -p 5102 >/dev/null &\n",
    "\n",
    "\n",
    "\n",
    "\n",
    "iperf3 -c 172.16.4.2 -t 60 -p 5102 >/dev/null &\n",
    "iperf3 -c 172.16.4.2 -t 60 -p 5101 >/dev/null &\n",
    "\n",
    "\n",
    "\n",
    "iperf3 -c 172.16.4.2 -t 60 -p 5102 \n",
    "iperf3 -c 172.16.4.2 -t 60 -p 5101 \n",
    "\n",
    "\n",
    "iperf3 -c 172.16.2.2 -t 240 -p 5102 \n",
    "iperf3 -c 172.16.4.2 -t 240 -p 5101 "
   ]
  },
  {
   "cell_type": "code",
   "execution_count": null,
   "metadata": {},
   "outputs": [],
   "source": [
    "killall iperf3\n",
    "iperf3 -c 172.16.3.2"
   ]
  },
  {
   "cell_type": "code",
   "execution_count": null,
   "metadata": {},
   "outputs": [],
   "source": [
    "tcpdump -i em1 -w /root/test.em1.pcap >& tcpdump.em1.out & ; tcpdump -i em2 -w /root/test.em2.pcap >& tcpdump.em2.out & ;"
   ]
  },
  {
   "cell_type": "code",
   "execution_count": null,
   "metadata": {},
   "outputs": [],
   "source": [
    "ssh -p 3323 root@localhost \"iperf3 -s -p 5101 -1\"\n",
    "ssh -p 3322 root@localhost \"iperf3 -c 172.16.3.2 -t 10 -p 5101\" &>/dev/null & \n",
    "\n",
    "\n",
    "ssh -p 3322 -i ~/.ssh/mptcprootkey root@192.168.56.1 \"iperf3 -c 172.16.3.2 -t 60\"\n",
    "ssh -p 3322 -i ~/.ssh/mptcprootkey root@192.168.56.1 \"iperf3 -p 5101 -c 172.16.3.2 -t 60\" >/dev/null & "
   ]
  },
  {
   "cell_type": "code",
   "execution_count": null,
   "metadata": {},
   "outputs": [],
   "source": [
    "ssh -p 3323 \"iperf3 -s -p 5101 -1\"\n",
    "ssh -p 3323 \"iperf3 -s -p 5102 -1\"\n",
    "ssh -p 3323 \"iperf3 -s -p 5103 -1\"\n",
    "ssh -p 3323 \"iperf3 -s -p 5104 -1\"\n",
    "\n",
    "\n",
    "\n",
    "ssh -p 3322 \"iperf3 -c 172.16.3.2 -t 10 -p 5101\"\n",
    "sleep 10\n",
    "ssh -p 3322 \"iperf3 -c 172.16.3.2 -t 10 -p 5102\"\n",
    "sleep 10\n",
    "ssh -p 3322 \"iperf3 -c 172.16.3.2 -t 10 -p 5103\"\n",
    "sleep 10\n",
    "ssh -p $srchostport -i ~/.ssh/$sshkey root@$vmhostaddr \"iperf3 -c 172.16.3.2 -t 10 -p 5104\"\n",
    "sleep 100"
   ]
  },
  {
   "cell_type": "code",
   "execution_count": null,
   "metadata": {},
   "outputs": [],
   "source": [
    "#Check if ECN is currently enabled by running the following command:\n",
    "\n",
    "sysctl net.inet.tcp.ecn.enable\n",
    "\n",
    "\n",
    "#To enable ECN, run the following command as the root user:\n",
    "\n",
    "sysctl net.inet.tcp.ecn.enable=1\n",
    "#mainly on test1 VM\n"
   ]
  },
  {
   "cell_type": "code",
   "execution_count": null,
   "metadata": {},
   "outputs": [],
   "source": [
    "sudo scp -P 3322 -p -i ~/.ssh/mptcprootkey root@192.168.56.1:*.siftr.log ./\n",
    "sudo scp -P 3322 -p -i ~/.ssh/mptcprootkey root@192.168.56.1:L4S*.siftr.log ./\n",
    "sudo scp -P 3322 -p -i ~/.ssh/mptcprootkey root@192.168.56.1:fqcodelscenario1.siftr.log ./"
   ]
  },
  {
   "cell_type": "code",
   "execution_count": null,
   "metadata": {},
   "outputs": [],
   "source": [
    "ipfw pipe 1 config bw 10Mbits/s delay 20ms\n",
    "ipfw sched 1 config pipe 1 type fq_pie\n",
    "ipfw queue 1 config sched 1\n",
    "ipfw add 100 queue 1 ip from 172.16.0.0/16 to 172.16.0.0/16"
   ]
  },
  {
   "cell_type": "code",
   "execution_count": null,
   "metadata": {},
   "outputs": [],
   "source": [
    "ipfw pipe 1 config bw 10Mbits/s delay 20ms\n",
    "ipfw sched 1 config pipe 1 type fq_codel\n",
    "ipfw queue 1 config sched 1\n",
    "ipfw add 100 queue 1 ip from 172.16.0.0/16 to 172.16.0.0/16"
   ]
  },
  {
   "attachments": {},
   "cell_type": "markdown",
   "metadata": {},
   "source": [
    "ECN enabled FQ_PIE"
   ]
  },
  {
   "cell_type": "code",
   "execution_count": null,
   "metadata": {},
   "outputs": [],
   "source": [
    "ipfw pipe 1 config bw 10Mbits/s delay 20ms;ipfw sched 1 config pipe 1 type fq_pie ecn;ipfw queue 1 config sched 1;ipfw add 100 queue 1 ip from 172.16.0.0/16 to 172.16.0.0/16"
   ]
  },
  {
   "cell_type": "code",
   "execution_count": null,
   "metadata": {},
   "outputs": [],
   "source": [
    "ipfw pipe 1 config bw 10Mbits/s delay 20ms;ipfw sched 1 config pipe 1 type fq_codel;ipfw queue 1 config sched 1;ipfw add 100 queue 1 ip from 172.16.0.0/16 to 172.16.0.0/16"
   ]
  },
  {
   "cell_type": "code",
   "execution_count": null,
   "metadata": {},
   "outputs": [],
   "source": [
    "make buildkernel -j2 KERNCONF=MYKERNEL;make installkernel -j2 KERNCONF=MYKERNEL; shutdown -r now"
   ]
  },
  {
   "cell_type": "code",
   "execution_count": null,
   "metadata": {},
   "outputs": [],
   "source": [
    "make buildkernel -j2 KERNCONF=MYKERNEL\n",
    "make buildkernel -j2 -DKERNFAST KERNCONF=MYKERNEL\n",
    "make installkernel -j2 -DKERNFAST KERNCONF=MYKERNEL"
   ]
  },
  {
   "cell_type": "code",
   "execution_count": null,
   "metadata": {},
   "outputs": [],
   "source": [
    "    struct ip *ip;\n",
    "\tip = (struct ip *)mtodo(m, dn_tag_get(m)->iphdr_off);\n",
    "\t//uint16_t old;\n",
    "\n",
    "\tif ((ip->ip_tos & IPTOS_ECN_MASK) == IPTOS_ECN_NOTECT)\n",
    "\t\tprintf(\" not-ECT \\n\");\t/* not-ECT */\n",
    "\tif ((ip->ip_tos & IPTOS_ECN_MASK) != 0)\n",
    "\t\tprintf(\"already marked \\n\");\t/* already marked */"
   ]
  },
  {
   "cell_type": "code",
   "execution_count": null,
   "metadata": {},
   "outputs": [],
   "source": [
    "git pull origin FreeBSD-L4S;make buildkernel -j2 -DKERNFAST KERNCONF=MYKERNEL;make installkernel -j2 -DKERNFAST KERNCONF=MYKERNEL; shutdown -r now"
   ]
  },
  {
   "cell_type": "code",
   "execution_count": null,
   "metadata": {},
   "outputs": [],
   "source": [
    "git pull origin FQ-PIE-6flows;make buildkernel -j2 -DKERNFAST KERNCONF=MYKERNEL;make installkernel -j2 -DKERNFAST KERNCONF=MYKERNEL; shutdown -r now"
   ]
  },
  {
   "cell_type": "code",
   "execution_count": null,
   "metadata": {},
   "outputs": [],
   "source": [
    "git pull origin FreeBSD-L4S"
   ]
  },
  {
   "cell_type": "code",
   "execution_count": null,
   "metadata": {},
   "outputs": [],
   "source": [
    "cat /var/log/messages > messagesoutput.txt\n",
    "sudo scp -P 4422 -p -i ~/.ssh/mptcprootkey root@192.168.56.1:/var/log/*.txt ./\n",
    "sudo scp -P 4422 -p -i ~/.ssh/mptcprootkey root@192.168.56.1:messagesoutput.txt ./"
   ]
  },
  {
   "cell_type": "code",
   "execution_count": null,
   "metadata": {},
   "outputs": [],
   "source": [
    "sudo scp -P 3322 -p -i ~/.ssh/mptcprootkey root@192.168.56.1:*.* ./"
   ]
  },
  {
   "attachments": {},
   "cell_type": "markdown",
   "metadata": {},
   "source": [
    "\"start\",\"q->flow_index\",\"pprms->qdelay_ref\",\"pprms->tupdate\",\"pprms->max_burst\",\"pprms->max_ecnth\",\"pprms->alpha\",\"pprms->beta\",\"pprms->flags\",\"pst->burst_allowance\",\"pst->drop_prob\",\"pst->current_qdelay\",\"pst->qdelay_old\",\"pst->accu_prob\",\"pst->measurement_start\",\"pst->avg_dq_time\",\"pst->dq_count\",\"pst->sflags\",\"q->stats.tot_pkts\",\"q->stats.tot_bytes\",\"q->stats.length\",\"q->stats.len_bytes\",\"q->stats.drops\""
   ]
  },
  {
   "cell_type": "code",
   "execution_count": null,
   "metadata": {},
   "outputs": [],
   "source": [
    "include\t\tGENERIC\n",
    "\n",
    "options\t\tKDB\n",
    "options\t\tDDB\n",
    "\n",
    "options\t\tALQ\n",
    "\n",
    "options\t\tBREAK_TO_DEBUGGER\n",
    "options \tALT_BREAK_TO_DEBUGGER\n",
    "\n",
    "options \tIPFIREWALL\n",
    "options \tIPFIREWALL_DEFAULT_TO_ACCEPT\n",
    "\n",
    "nooptions\tINET6\n",
    "nooptions\tIPSEC"
   ]
  },
  {
   "cell_type": "code",
   "execution_count": null,
   "metadata": {},
   "outputs": [],
   "source": [
    "typedef uint32_t aqm_time_t;\n",
    "typedef int32_t aqm_stime_t;"
   ]
  },
  {
   "cell_type": "code",
   "execution_count": null,
   "metadata": {},
   "outputs": [],
   "source": [
    "/* PIE parameters */\n",
    "struct dn_aqm_pie_parms {\n",
    "\taqm_time_t\tqdelay_ref;\t/* AQM Latency Target (default: 15ms) */\n",
    "\taqm_time_t\ttupdate;\t\t/* a period to calculate drop probability (default:15ms) */\n",
    "\taqm_time_t\tmax_burst;\t/* AQM Max Burst Allowance (default: 150ms) */\n",
    "\tuint16_t\tmax_ecnth;\t/*AQM Max ECN Marking Threshold (default: 10%) */\n",
    "\tuint16_t\talpha;\t\t\t/* (default: 1/8) */\n",
    "\tuint16_t\tbeta;\t\t\t/* (default: 1+1/4) */\n",
    "\tuint32_t\tflags;\t\t\t/* PIE options */\n",
    "};\n",
    "\n",
    "/* PIE status variables */\n",
    "struct pie_status{\n",
    "\tstruct callout\taqm_pie_callout;\n",
    "\taqm_time_t\tburst_allowance;\n",
    "\tuint32_t\tdrop_prob;\n",
    "\taqm_time_t\tcurrent_qdelay;\n",
    "\taqm_time_t\tqdelay_old;\n",
    "\tuint64_t\taccu_prob;\n",
    "\taqm_time_t\tmeasurement_start;\n",
    "\taqm_time_t\tavg_dq_time;\n",
    "\tuint32_t\tdq_count;\n",
    "\tuint32_t\tsflags;\n",
    "\tstruct dn_aqm_pie_parms *parms;\t/* pointer to PIE configurations */\n",
    "\t/* pointer to parent queue of FQ-PIE sub-queues, or  queue of owner fs. */\n",
    "\tstruct dn_queue\t*pq;\t\n",
    "\tstruct mtx\tlock_mtx;\n",
    "\tuint32_t one_third_q_size; /* 1/3 of queue size, for speed optization */\n",
    "};"
   ]
  },
  {
   "cell_type": "code",
   "execution_count": null,
   "metadata": {},
   "outputs": [],
   "source": [
    "/* flow (sub-queue) stats */\n",
    "struct flow_stats {\n",
    "\tuint64_t tot_pkts;\t/* statistics counters  */\n",
    "\tuint64_t tot_bytes;\n",
    "\tuint32_t length;\t\t/* Queue length, in packets */\n",
    "\tuint32_t len_bytes;\t/* Queue length, in bytes */\n",
    "\tuint32_t drops;\n",
    "};\n",
    "\n",
    "/* A flow of packets (sub-queue)*/\n",
    "struct fq_pie_flow {\n",
    "\tstruct mq\tmq;\t/* list of packets */\n",
    "\tstruct flow_stats stats;\t/* statistics */\n",
    "\tint deficit;\n",
    "\tint flow_index;\n",
    "\tint active;\t\t/* 1: flow is active (in a list) */\n",
    "\tstruct pie_status pst;\t/* pie status variables */\n",
    "\tstruct fq_pie_si_extra *psi_extra;\n",
    "\tSTAILQ_ENTRY(fq_pie_flow) flowchain;\n",
    "};"
   ]
  },
  {
   "cell_type": "code",
   "execution_count": null,
   "metadata": {},
   "outputs": [],
   "source": [
    "fq_pie_flow"
   ]
  },
  {
   "cell_type": "code",
   "execution_count": null,
   "metadata": {},
   "outputs": [],
   "source": [
    "pie_status"
   ]
  },
  {
   "cell_type": "code",
   "execution_count": null,
   "metadata": {},
   "outputs": [],
   "source": [
    "dn_aqm_pie_parms"
   ]
  },
  {
   "cell_type": "code",
   "execution_count": null,
   "metadata": {},
   "outputs": [],
   "source": []
  }
 ],
 "metadata": {
  "language_info": {
   "name": "python"
  },
  "orig_nbformat": 4
 },
 "nbformat": 4,
 "nbformat_minor": 2
}
