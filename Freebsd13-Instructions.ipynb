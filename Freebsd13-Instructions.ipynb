{
 "cells": [
  {
   "attachments": {},
   "cell_type": "markdown",
   "metadata": {},
   "source": [
    "# Installation of Git on Freebsd 13"
   ]
  },
  {
   "cell_type": "code",
   "execution_count": null,
   "metadata": {},
   "outputs": [],
   "source": [
    "sudo pkg update -f\n",
    "sudo pkg install git"
   ]
  },
  {
   "cell_type": "code",
   "execution_count": null,
   "metadata": {},
   "outputs": [],
   "source": [
    "csh copy_keys.sh 192.168.56.1 ubuntu\n",
    "csh test_copy_confs.sh"
   ]
  },
  {
   "cell_type": "code",
   "execution_count": null,
   "metadata": {},
   "outputs": [],
   "source": [
    "csh test_controller.sh singlepath.conf"
   ]
  },
  {
   "cell_type": "code",
   "execution_count": null,
   "metadata": {},
   "outputs": [],
   "source": [
    "kldload siftr\n",
    "https://www.freebsd.org/cgi/man.cgi?query=siftr&sektion=4&manpath=FreeBSD+8.2-RELEASE"
   ]
  },
  {
   "attachments": {},
   "cell_type": "markdown",
   "metadata": {},
   "source": [
    "Install rsync before editing system configuration"
   ]
  },
  {
   "attachments": {},
   "cell_type": "markdown",
   "metadata": {},
   "source": [
    "Restart afte copying conf files to reset and load saved files"
   ]
  },
  {
   "cell_type": "code",
   "execution_count": null,
   "metadata": {},
   "outputs": [],
   "source": [
    "rsync -P random10M.file 172.16.3.2:./random10M.file/"
   ]
  },
  {
   "cell_type": "code",
   "execution_count": null,
   "metadata": {},
   "outputs": [],
   "source": [
    "Create random10M file \n",
    "dd if=/dev/zero of=random10M.file bs=1024 count=10240"
   ]
  },
  {
   "cell_type": "code",
   "execution_count": null,
   "metadata": {},
   "outputs": [],
   "source": [
    "csh test_controller.sh singlepath.conf"
   ]
  },
  {
   "attachments": {},
   "cell_type": "markdown",
   "metadata": {},
   "source": [
    "# System Call"
   ]
  },
  {
   "cell_type": "code",
   "execution_count": null,
   "metadata": {},
   "outputs": [],
   "source": [
    "make sysent in usr/src/sys/kern"
   ]
  },
  {
   "cell_type": "code",
   "execution_count": null,
   "metadata": {},
   "outputs": [],
   "source": [
    "# main sys/kern/syscalls.master\n",
    "\n",
    "584\tAUE_NULL\tSTD {\n",
    "\t\tint set_qsize(\n",
    "\t\t\t_In_ int qsize\n",
    "\t\t);\n",
    "\t}\n",
    "585\tAUE_NULL\tSTD {\n",
    "\t\tint get_qsize(void);\n",
    "\t}"
   ]
  },
  {
   "cell_type": "code",
   "execution_count": null,
   "metadata": {},
   "outputs": [],
   "source": [
    "# main sys/kern/syscalls.master\n",
    "\n",
    "588\tAUE_NULL\tSTD {\n",
    "\t\tint aqm_l4s_drl_get_state(\n",
    "\t\t\t_Out_ u_int *ref,\n",
    "\t\t\t_Out_ int *old_prob,\n",
    "\t\t\t_Out_ struct state *sf1_last_state,\n",
    "\t\t\t_Out_ struct state *sf2_last_state,\n",
    "\t\t\t_Out_ struct state *sf1_state,\n",
    "\t\t\t_Out_ struct state *sf2_state,\n",
    "\t\t\t_Out_ int *ecn\n",
    "\t\t);\n",
    "\t}"
   ]
  },
  {
   "cell_type": "code",
   "execution_count": null,
   "metadata": {},
   "outputs": [],
   "source": [
    "#include <sys/param.h>\n",
    "#include <sys/sysent.h>\n",
    "#include <sys/sysproto.h>\n",
    "#include <sys/kernel.h>\n",
    "#include <sys/proc.h>\n",
    "#include <sys/syscallsubr.h>\n",
    "\n",
    "#include <sys/types.h>\n",
    "#include <sys/systm.h>\n",
    "\n",
    "\n",
    "\n",
    "\n",
    "static int _cwnd = 0;\n",
    "\n",
    "int sys_set_cwnd(struct thread *td, struct set_cwnd_args *uap)\n",
    "{\n",
    "        _cwnd = uap->cwnd;\n",
    "        printf(\"You entered sys_set_cwnd 5555555: %d\", _cwnd);\n",
    "        return 0;\n",
    "}\n",
    "\n",
    "int sys_get_cwnd(struct thread *td, struct get_cwnd_args *uap)\n",
    "{\n",
    "        td->td_retval[0] = _cwnd;\n",
    "        return 0;\n",
    "}\n",
    "\n",
    "\n",
    "\n",
    "/* Structure for DQN state information */\n",
    "struct state {\n",
    "    int pipe;      /* Unacknowledged bytes in flight */\n",
    "    uint32_t wnd;  /* Window size - min of cwnd and swnd */\n",
    "    int srtt;      /* Smoothed round trip time */\n",
    "    int rttvar;    /* Variance in round trip time */\n",
    "};\n",
    "\n",
    "\n",
    "\n",
    "\n",
    "int sys_aqm_l4s_drl_get_state(struct thread *td, struct aqm_l4s_drl_get_state_args *uap)\n",
    "{\n",
    "    struct state *se = NULL;\n",
    "\n",
    "    // Allocate memory for the struct\n",
    "    se = malloc(sizeof(struct state), M_TEMP, M_WAITOK | M_ZERO);\n",
    "\n",
    "    uint32_t myVariable = 1;\n",
    "    int ecn = 532;\n",
    "    int old_prob = 7328;\n",
    "    \n",
    "\n",
    "\t/* Copy values from kernel to userland */\n",
    "    copyout(&myVariable, uap->ref, sizeof(uint32_t));\n",
    "    copyout(&old_prob, uap->old_prob, sizeof(int));\n",
    "    copyout(&se, uap->sf1_last_state, sizeof(struct state));\n",
    "    copyout(&se, uap->sf2_last_state, sizeof(struct state));\n",
    "    copyout(&se, uap->sf1_state, sizeof(struct state));\n",
    "    copyout(&se, uap->sf2_state, sizeof(struct state));\n",
    "    copyout(&ecn, uap->ecn, sizeof(int));\n",
    "\t\n",
    "\treturn (0);\n",
    "}"
   ]
  },
  {
   "cell_type": "code",
   "execution_count": null,
   "metadata": {},
   "outputs": [],
   "source": [
    "make sysent"
   ]
  },
  {
   "cell_type": "code",
   "execution_count": null,
   "metadata": {},
   "outputs": [],
   "source": [
    "sys/kern/systrace_args.c\n",
    "sys/kern/init_sysent.c\n",
    "sys/kern/syscalls.c\n",
    "sys/sys/syscall.h\n",
    "sys/sys/syscall.mk\n",
    "sys/sys/sysproto.h"
   ]
  },
  {
   "cell_type": "code",
   "execution_count": null,
   "metadata": {},
   "outputs": [],
   "source": [
    "585\tAUE_NULL\tUNIMPL\tset_qsize\n",
    "586\tAUE_NULL\tUNIMPL\tget_qsize"
   ]
  },
  {
   "attachments": {},
   "cell_type": "markdown",
   "metadata": {},
   "source": [
    "# C syscall"
   ]
  },
  {
   "cell_type": "code",
   "execution_count": null,
   "metadata": {},
   "outputs": [],
   "source": [
    "#include <sys/syscall.h>\n",
    "#include <unistd.h>\n",
    "\n",
    " \n",
    "\n",
    "int qsize=993;\n",
    "\n",
    "\n",
    "\n",
    "int qreturn;\n",
    "\n",
    " \n",
    "\n",
    "syscall(585,qsize);\n",
    "\n",
    "qreturn=syscall(586);\n",
    "\n",
    " \n",
    "\n",
    "printf(\"%d\\n\",qreturn);"
   ]
  },
  {
   "cell_type": "code",
   "execution_count": null,
   "metadata": {},
   "outputs": [],
   "source": [
    "#include <stdio.h>\n",
    "#include <sys/syscall.h>\n",
    "#include <unistd.h>\n",
    "int main()\n",
    "{\n",
    "        int qsize=993;\n",
    "        int qreturn;\n",
    "        qreturn=syscall(583,qsize);\n",
    "        int rr=syscall(584);\n",
    "        printf(\"System call sys_hello returned %d\\n\", rr);\n",
    "        return 0;\n",
    "}"
   ]
  },
  {
   "cell_type": "code",
   "execution_count": null,
   "metadata": {},
   "outputs": [],
   "source": [
    "cc -o testcoutput testc.c"
   ]
  },
  {
   "attachments": {},
   "cell_type": "markdown",
   "metadata": {},
   "source": [
    "# testc.c"
   ]
  },
  {
   "cell_type": "code",
   "execution_count": null,
   "metadata": {},
   "outputs": [],
   "source": [
    "#include <stdio.h>\n",
    "#include <sys/syscall.h>\n",
    "#include <unistd.h>\n",
    "\n",
    "\n",
    "/* Structure for DQN state information */\n",
    "struct state {\n",
    "    int pipe;      /* Unacknowledged bytes in flight */\n",
    "    uint32_t wnd;  /* Window size - min of cwnd and swnd */\n",
    "    int srtt;      /* Smoothed round trip time */\n",
    "    int rttvar;    /* Variance in round trip time */\n",
    "};\n",
    "\n",
    "\n",
    "struct my_struct {\n",
    "    uint32_t ref;      /* Unacknowledged bytes in flight */\n",
    "    int old_prob;\n",
    "    struct state sf1_last_state;\n",
    "    struct state sf2_last_state;\n",
    "    struct state sf1_state;\n",
    "    struct state sf2_state;\n",
    "    int ecn;\n",
    "    \n",
    "};\n",
    "\n",
    "int main()\n",
    "{\n",
    "    struct my_struct myData;  \n",
    "    int qreturn;\n",
    "    qreturn=syscall(588,myData);\n",
    "    printf(\"System call sys_hello returned %d\\n\", myData.old_prob);\n",
    "    printf(\"System call sys_hello returned %d\\n\", myData.ecn);\n",
    "    printf(\"System call sys_hello returned %u\\n\", myData.ref);\n",
    "    printf(\"System call sys_hello returned %d\\n\", myData.sf1_state.srtt);\n",
    "    return 0;\n",
    "}"
   ]
  },
  {
   "attachments": {},
   "cell_type": "markdown",
   "metadata": {},
   "source": [
    "# testpython.py"
   ]
  },
  {
   "cell_type": "code",
   "execution_count": null,
   "metadata": {},
   "outputs": [],
   "source": [
    "#!/usr/bin/env python3\n",
    "print(\"Working Python2312\")\n",
    "\n",
    "import ctypes\n",
    "libc = ctypes.CDLL(None)\n",
    "syscall = libc.syscall\n",
    "\n",
    "inx=9534\n",
    "outy=90\n",
    "outx=syscall(583,inx)\n",
    "outy=syscall(584)\n",
    "print(inx)\n",
    "print(outx)\n",
    "print(outy)"
   ]
  },
  {
   "attachments": {},
   "cell_type": "markdown",
   "metadata": {},
   "source": [
    "# sys/netiner aqm_cc.c mptcp_cc.c"
   ]
  },
  {
   "cell_type": "code",
   "execution_count": null,
   "metadata": {},
   "outputs": [],
   "source": [
    "#include <sys/param.h>\n",
    "#include <sys/sysent.h>\n",
    "#include <sys/sysproto.h>\n",
    "#include <sys/kernel.h>\n",
    "#include <sys/proc.h>\n",
    "#include <sys/syscallsubr.h>\n",
    "\n",
    "#include <sys/types.h>\n",
    "#include <sys/systm.h>\n",
    "\n",
    "static int _cwnd = 0;\n",
    "\n",
    "int sys_set_cwnd(struct thread *td, struct set_cwnd_args *uap)\n",
    "{\n",
    "        _cwnd = uap->cwnd;\n",
    "        printf(\"You entered sys_set_cwnd 5555555: %d\", _cwnd);\n",
    "        return 0;\n",
    "}\n",
    "\n",
    "int sys_get_cwnd(struct thread *td, struct get_cwnd_args *uap)\n",
    "{\n",
    "        td->td_retval[0] = _cwnd;\n",
    "        return 0;\n",
    "}"
   ]
  },
  {
   "cell_type": "code",
   "execution_count": null,
   "metadata": {},
   "outputs": [],
   "source": [
    "#include <sys/param.h>\n",
    "#include <sys/sysent.h>\n",
    "#include <sys/sysproto.h>\n",
    "#include <sys/kernel.h>\n",
    "#include <sys/proc.h>\n",
    "#include <sys/syscallsubr.h>\n",
    "\n",
    "#include <sys/types.h>\n",
    "#include <sys/systm.h>\n",
    "\n",
    "static int _qsize = 0;\n",
    "\n",
    "int sys_set_qsize(struct thread *td, struct set_qsize_args *uap)\n",
    "{\n",
    "\t_qsize = uap->qsize;\n",
    "    printf(\"You entered sys_set_cwnd 5555555: %d\", _qsize);\n",
    "\treturn 0;\n",
    "}\n",
    "\n",
    "int sys_get_qsize(struct thread *td, struct get_qsize_args *uap)\n",
    "{\n",
    "\ttd->td_retval[0] = _qsize;\n",
    "\treturn 0;\n",
    "}"
   ]
  }
 ],
 "metadata": {
  "kernelspec": {
   "display_name": "py36",
   "language": "python",
   "name": "python3"
  },
  "language_info": {
   "name": "python",
   "version": "3.6.13 |Anaconda, Inc.| (default, Mar 16 2021, 11:37:27) [MSC v.1916 64 bit (AMD64)]"
  },
  "orig_nbformat": 4,
  "vscode": {
   "interpreter": {
    "hash": "ee9a9e65af7178d56845d1d4c72818e471156167b412f3c38b275a8b25fc5720"
   }
  }
 },
 "nbformat": 4,
 "nbformat_minor": 2
}
